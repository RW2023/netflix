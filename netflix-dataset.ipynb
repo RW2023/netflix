{
 "cells": [
  {
   "cell_type": "code",
   "execution_count": 26,
   "metadata": {
    "_cell_guid": "b1076dfc-b9ad-4769-8c92-a6c4dae69d19",
    "_uuid": "8f2839f25d086af736a60e9eeb907d3b93b6e0e5",
    "execution": {
     "iopub.execute_input": "2024-02-16T13:59:45.433119Z",
     "iopub.status.busy": "2024-02-16T13:59:45.432518Z",
     "iopub.status.idle": "2024-02-16T13:59:45.443146Z",
     "shell.execute_reply": "2024-02-16T13:59:45.442000Z",
     "shell.execute_reply.started": "2024-02-16T13:59:45.433071Z"
    }
   },
   "outputs": [],
   "source": [
    "import numpy as np # linear algebra\n",
    "import pandas as pd # data processing, CSV file I/O (e.g. pd.read_csv)\n",
    "import matplotlib.pyplot as plt\n",
    "import plotly.express as px\n",
    "import ast\n",
    "import seaborn as sns"
   ]
  },
  {
   "cell_type": "code",
   "execution_count": 7,
   "metadata": {
    "execution": {
     "iopub.execute_input": "2024-02-16T13:59:45.445848Z",
     "iopub.status.busy": "2024-02-16T13:59:45.445477Z",
     "iopub.status.idle": "2024-02-16T13:59:45.463655Z",
     "shell.execute_reply": "2024-02-16T13:59:45.462191Z",
     "shell.execute_reply.started": "2024-02-16T13:59:45.445819Z"
    }
   },
   "outputs": [],
   "source": [
    "filepath = 'netfix_cleaned.csv'"
   ]
  },
  {
   "cell_type": "code",
   "execution_count": 8,
   "metadata": {
    "execution": {
     "iopub.execute_input": "2024-02-16T13:59:45.466805Z",
     "iopub.status.busy": "2024-02-16T13:59:45.465832Z",
     "iopub.status.idle": "2024-02-16T13:59:45.488505Z",
     "shell.execute_reply": "2024-02-16T13:59:45.487181Z",
     "shell.execute_reply.started": "2024-02-16T13:59:45.466748Z"
    }
   },
   "outputs": [],
   "source": [
    "df = pd.read_csv(filepath)"
   ]
  },
  {
   "cell_type": "code",
   "execution_count": 9,
   "metadata": {
    "execution": {
     "iopub.execute_input": "2024-02-16T13:59:45.492429Z",
     "iopub.status.busy": "2024-02-16T13:59:45.491967Z",
     "iopub.status.idle": "2024-02-16T13:59:45.511108Z",
     "shell.execute_reply": "2024-02-16T13:59:45.509639Z",
     "shell.execute_reply.started": "2024-02-16T13:59:45.492386Z"
    }
   },
   "outputs": [
    {
     "data": {
      "text/html": [
       "<div>\n",
       "<style scoped>\n",
       "    .dataframe tbody tr th:only-of-type {\n",
       "        vertical-align: middle;\n",
       "    }\n",
       "\n",
       "    .dataframe tbody tr th {\n",
       "        vertical-align: top;\n",
       "    }\n",
       "\n",
       "    .dataframe thead th {\n",
       "        text-align: right;\n",
       "    }\n",
       "</style>\n",
       "<table border=\"1\" class=\"dataframe\">\n",
       "  <thead>\n",
       "    <tr style=\"text-align: right;\">\n",
       "      <th></th>\n",
       "      <th>names</th>\n",
       "      <th>release_year</th>\n",
       "      <th>maturity_rating</th>\n",
       "      <th>duration</th>\n",
       "      <th>description</th>\n",
       "      <th>genre</th>\n",
       "      <th>mood</th>\n",
       "      <th>cast</th>\n",
       "      <th>subtitles</th>\n",
       "      <th>audio</th>\n",
       "    </tr>\n",
       "  </thead>\n",
       "  <tbody>\n",
       "    <tr>\n",
       "      <th>0</th>\n",
       "      <td>Mission Majnu</td>\n",
       "      <td>2023</td>\n",
       "      <td>U/A 16+</td>\n",
       "      <td>2h 9m</td>\n",
       "      <td>In the 1970s, an undercover Indian spy takes o...</td>\n",
       "      <td>['Spy Movies', 'Hindi-Language Movies', 'Bolly...</td>\n",
       "      <td>Suspenseful</td>\n",
       "      <td>['Sidharth Malhotra', 'Rashmika Mandanna', 'Pa...</td>\n",
       "      <td>['English,', 'English,', 'Hindi']</td>\n",
       "      <td>['English,', 'Hindi - Audio Description,', 'Hi...</td>\n",
       "    </tr>\n",
       "    <tr>\n",
       "      <th>1</th>\n",
       "      <td>Cirkus</td>\n",
       "      <td>2022</td>\n",
       "      <td>U/A 7+</td>\n",
       "      <td>2h 14m</td>\n",
       "      <td>Chaos and comedy take the spotlight when a rin...</td>\n",
       "      <td>['Hindi-Language Movies', 'Bollywood Movies', ...</td>\n",
       "      <td>Goofy</td>\n",
       "      <td>['Ranveer Singh', 'Varun Sharma', 'Pooja Hegde...</td>\n",
       "      <td>['English,', 'Hindi']</td>\n",
       "      <td>['Hindi [Original]']</td>\n",
       "    </tr>\n",
       "    <tr>\n",
       "      <th>2</th>\n",
       "      <td>Gangubai Kathiawadi</td>\n",
       "      <td>2022</td>\n",
       "      <td>U/A 16+</td>\n",
       "      <td>2h 33m</td>\n",
       "      <td>Duped and sold to a brothel, a young woman fea...</td>\n",
       "      <td>['Hindi-Language Movies', 'Movies Based on Boo...</td>\n",
       "      <td>Provocative</td>\n",
       "      <td>['Alia Bhatt', 'Vijay Raaz', 'Seema Pahwa', 'A...</td>\n",
       "      <td>['English,', 'Hindi']</td>\n",
       "      <td>['Hindi [Original],', 'Telugu']</td>\n",
       "    </tr>\n",
       "    <tr>\n",
       "      <th>3</th>\n",
       "      <td>Thunivu</td>\n",
       "      <td>2023</td>\n",
       "      <td>U/A 16+</td>\n",
       "      <td>2h 22m</td>\n",
       "      <td>A major bank heist takes an unnerving turn whe...</td>\n",
       "      <td>['Crime Movies', 'Action &amp; Adventure']</td>\n",
       "      <td>Exciting</td>\n",
       "      <td>['Ajith Kumar', 'Manju Warrier', 'Samuthirakan...</td>\n",
       "      <td>['English,', 'Hindi']</td>\n",
       "      <td>['Tamil [Original]']</td>\n",
       "    </tr>\n",
       "    <tr>\n",
       "      <th>4</th>\n",
       "      <td>Bhool Bhulaiyaa 2</td>\n",
       "      <td>2022</td>\n",
       "      <td>U/A 13+</td>\n",
       "      <td>2h 21m</td>\n",
       "      <td>When strangers Reet and Ruhan cross paths, the...</td>\n",
       "      <td>['Hindi-Language Movies', 'Bollywood Movies', ...</td>\n",
       "      <td>Offbeat,</td>\n",
       "      <td>['Tabu', 'Kartik Aaryan', 'Kiara Advani', 'Raj...</td>\n",
       "      <td>['English,', 'Hindi']</td>\n",
       "      <td>['Hindi [Original]']</td>\n",
       "    </tr>\n",
       "  </tbody>\n",
       "</table>\n",
       "</div>"
      ],
      "text/plain": [
       "                 names  release_year maturity_rating duration  \\\n",
       "0        Mission Majnu          2023        U/A 16+     2h 9m   \n",
       "1               Cirkus          2022         U/A 7+    2h 14m   \n",
       "2  Gangubai Kathiawadi          2022        U/A 16+    2h 33m   \n",
       "3              Thunivu          2023        U/A 16+    2h 22m   \n",
       "4    Bhool Bhulaiyaa 2          2022        U/A 13+    2h 21m   \n",
       "\n",
       "                                         description  \\\n",
       "0  In the 1970s, an undercover Indian spy takes o...   \n",
       "1  Chaos and comedy take the spotlight when a rin...   \n",
       "2  Duped and sold to a brothel, a young woman fea...   \n",
       "3  A major bank heist takes an unnerving turn whe...   \n",
       "4  When strangers Reet and Ruhan cross paths, the...   \n",
       "\n",
       "                                               genre         mood  \\\n",
       "0  ['Spy Movies', 'Hindi-Language Movies', 'Bolly...  Suspenseful   \n",
       "1  ['Hindi-Language Movies', 'Bollywood Movies', ...        Goofy   \n",
       "2  ['Hindi-Language Movies', 'Movies Based on Boo...  Provocative   \n",
       "3             ['Crime Movies', 'Action & Adventure']     Exciting   \n",
       "4  ['Hindi-Language Movies', 'Bollywood Movies', ...     Offbeat,   \n",
       "\n",
       "                                                cast  \\\n",
       "0  ['Sidharth Malhotra', 'Rashmika Mandanna', 'Pa...   \n",
       "1  ['Ranveer Singh', 'Varun Sharma', 'Pooja Hegde...   \n",
       "2  ['Alia Bhatt', 'Vijay Raaz', 'Seema Pahwa', 'A...   \n",
       "3  ['Ajith Kumar', 'Manju Warrier', 'Samuthirakan...   \n",
       "4  ['Tabu', 'Kartik Aaryan', 'Kiara Advani', 'Raj...   \n",
       "\n",
       "                           subtitles  \\\n",
       "0  ['English,', 'English,', 'Hindi']   \n",
       "1              ['English,', 'Hindi']   \n",
       "2              ['English,', 'Hindi']   \n",
       "3              ['English,', 'Hindi']   \n",
       "4              ['English,', 'Hindi']   \n",
       "\n",
       "                                               audio  \n",
       "0  ['English,', 'Hindi - Audio Description,', 'Hi...  \n",
       "1                               ['Hindi [Original]']  \n",
       "2                    ['Hindi [Original],', 'Telugu']  \n",
       "3                               ['Tamil [Original]']  \n",
       "4                               ['Hindi [Original]']  "
      ]
     },
     "execution_count": 9,
     "metadata": {},
     "output_type": "execute_result"
    }
   ],
   "source": [
    "df.head()"
   ]
  },
  {
   "cell_type": "code",
   "execution_count": 10,
   "metadata": {
    "execution": {
     "iopub.execute_input": "2024-02-16T13:59:45.513452Z",
     "iopub.status.busy": "2024-02-16T13:59:45.512901Z",
     "iopub.status.idle": "2024-02-16T13:59:45.532891Z",
     "shell.execute_reply": "2024-02-16T13:59:45.531655Z",
     "shell.execute_reply.started": "2024-02-16T13:59:45.513408Z"
    }
   },
   "outputs": [
    {
     "data": {
      "text/html": [
       "<div>\n",
       "<style scoped>\n",
       "    .dataframe tbody tr th:only-of-type {\n",
       "        vertical-align: middle;\n",
       "    }\n",
       "\n",
       "    .dataframe tbody tr th {\n",
       "        vertical-align: top;\n",
       "    }\n",
       "\n",
       "    .dataframe thead th {\n",
       "        text-align: right;\n",
       "    }\n",
       "</style>\n",
       "<table border=\"1\" class=\"dataframe\">\n",
       "  <thead>\n",
       "    <tr style=\"text-align: right;\">\n",
       "      <th></th>\n",
       "      <th>names</th>\n",
       "      <th>release_year</th>\n",
       "      <th>maturity_rating</th>\n",
       "      <th>duration</th>\n",
       "      <th>description</th>\n",
       "      <th>genre</th>\n",
       "      <th>mood</th>\n",
       "      <th>cast</th>\n",
       "      <th>subtitles</th>\n",
       "      <th>audio</th>\n",
       "    </tr>\n",
       "  </thead>\n",
       "  <tbody>\n",
       "    <tr>\n",
       "      <th>555</th>\n",
       "      <td>Happy New Year</td>\n",
       "      <td>2014</td>\n",
       "      <td>U/A 13+</td>\n",
       "      <td>2h 58m</td>\n",
       "      <td>A revenge-seeking diamond thief gathers a ragt...</td>\n",
       "      <td>['Hindi-Language Movies', 'Bollywood Movies', ...</td>\n",
       "      <td>Feel-Good</td>\n",
       "      <td>['Shah Rukh Khan', 'Deepika Padukone', 'Abhish...</td>\n",
       "      <td>['English']</td>\n",
       "      <td>['Hindi [Original]']</td>\n",
       "    </tr>\n",
       "    <tr>\n",
       "      <th>556</th>\n",
       "      <td>RRR (Hindi)</td>\n",
       "      <td>2022</td>\n",
       "      <td>A</td>\n",
       "      <td>3h 5m</td>\n",
       "      <td>A fearless warrior on a perilous mission comes...</td>\n",
       "      <td>['Action &amp; Adventure', 'Dramas']</td>\n",
       "      <td>Adrenaline Rush</td>\n",
       "      <td>['NTR Jr.', 'Ram Charan', 'Ajay Devgn', 'Alia ...</td>\n",
       "      <td>['English,', 'Hindi']</td>\n",
       "      <td>['English,', 'Hindi']</td>\n",
       "    </tr>\n",
       "    <tr>\n",
       "      <th>557</th>\n",
       "      <td>Major (Telugu)</td>\n",
       "      <td>2022</td>\n",
       "      <td>U/A 16+</td>\n",
       "      <td>2h 25m</td>\n",
       "      <td>This biopic follows the life of Indian Army of...</td>\n",
       "      <td>['Movies Based on Real Life', 'Action &amp; Advent...</td>\n",
       "      <td>Bittersweet,</td>\n",
       "      <td>['Adivi Sesh', 'Prakash Raj', 'Sobhita Dhulipa...</td>\n",
       "      <td>['English']</td>\n",
       "      <td>['Telugu [Original]']</td>\n",
       "    </tr>\n",
       "    <tr>\n",
       "      <th>558</th>\n",
       "      <td>Om Shanti Om</td>\n",
       "      <td>2007</td>\n",
       "      <td>U/A 16+</td>\n",
       "      <td>2h 48m</td>\n",
       "      <td>Reincarnated 30 years after being killed in a ...</td>\n",
       "      <td>['Romantic Comedies', 'Hindi-Language Movies',...</td>\n",
       "      <td>Emotional,</td>\n",
       "      <td>['Shah Rukh Khan', 'Deepika Padukone', 'Shreya...</td>\n",
       "      <td>['English']</td>\n",
       "      <td>['Hindi [Original]']</td>\n",
       "    </tr>\n",
       "    <tr>\n",
       "      <th>559</th>\n",
       "      <td>Kabhi Khushi Kabhie Gham</td>\n",
       "      <td>2001</td>\n",
       "      <td>U/A 13+</td>\n",
       "      <td>3h 29m</td>\n",
       "      <td>Years after his father disowns his adopted bro...</td>\n",
       "      <td>['Hindi-Language Movies', 'Bollywood Movies', ...</td>\n",
       "      <td>Sentimental,</td>\n",
       "      <td>['Amitabh Bachchan', 'Jaya Bhaduri', 'Shah Ruk...</td>\n",
       "      <td>['English']</td>\n",
       "      <td>['Hindi [Original]']</td>\n",
       "    </tr>\n",
       "  </tbody>\n",
       "</table>\n",
       "</div>"
      ],
      "text/plain": [
       "                        names  release_year maturity_rating duration  \\\n",
       "555            Happy New Year          2014        U/A 13+    2h 58m   \n",
       "556               RRR (Hindi)          2022              A     3h 5m   \n",
       "557            Major (Telugu)          2022        U/A 16+    2h 25m   \n",
       "558              Om Shanti Om          2007        U/A 16+    2h 48m   \n",
       "559  Kabhi Khushi Kabhie Gham          2001        U/A 13+    3h 29m   \n",
       "\n",
       "                                           description  \\\n",
       "555  A revenge-seeking diamond thief gathers a ragt...   \n",
       "556  A fearless warrior on a perilous mission comes...   \n",
       "557  This biopic follows the life of Indian Army of...   \n",
       "558  Reincarnated 30 years after being killed in a ...   \n",
       "559  Years after his father disowns his adopted bro...   \n",
       "\n",
       "                                                 genre             mood  \\\n",
       "555  ['Hindi-Language Movies', 'Bollywood Movies', ...        Feel-Good   \n",
       "556                   ['Action & Adventure', 'Dramas']  Adrenaline Rush   \n",
       "557  ['Movies Based on Real Life', 'Action & Advent...     Bittersweet,   \n",
       "558  ['Romantic Comedies', 'Hindi-Language Movies',...       Emotional,   \n",
       "559  ['Hindi-Language Movies', 'Bollywood Movies', ...     Sentimental,   \n",
       "\n",
       "                                                  cast              subtitles  \\\n",
       "555  ['Shah Rukh Khan', 'Deepika Padukone', 'Abhish...            ['English']   \n",
       "556  ['NTR Jr.', 'Ram Charan', 'Ajay Devgn', 'Alia ...  ['English,', 'Hindi']   \n",
       "557  ['Adivi Sesh', 'Prakash Raj', 'Sobhita Dhulipa...            ['English']   \n",
       "558  ['Shah Rukh Khan', 'Deepika Padukone', 'Shreya...            ['English']   \n",
       "559  ['Amitabh Bachchan', 'Jaya Bhaduri', 'Shah Ruk...            ['English']   \n",
       "\n",
       "                     audio  \n",
       "555   ['Hindi [Original]']  \n",
       "556  ['English,', 'Hindi']  \n",
       "557  ['Telugu [Original]']  \n",
       "558   ['Hindi [Original]']  \n",
       "559   ['Hindi [Original]']  "
      ]
     },
     "execution_count": 10,
     "metadata": {},
     "output_type": "execute_result"
    }
   ],
   "source": [
    "df.tail()"
   ]
  },
  {
   "cell_type": "code",
   "execution_count": 11,
   "metadata": {
    "execution": {
     "iopub.execute_input": "2024-02-16T13:59:45.535055Z",
     "iopub.status.busy": "2024-02-16T13:59:45.534718Z",
     "iopub.status.idle": "2024-02-16T13:59:45.553832Z",
     "shell.execute_reply": "2024-02-16T13:59:45.552623Z",
     "shell.execute_reply.started": "2024-02-16T13:59:45.535028Z"
    }
   },
   "outputs": [
    {
     "data": {
      "text/html": [
       "<div>\n",
       "<style scoped>\n",
       "    .dataframe tbody tr th:only-of-type {\n",
       "        vertical-align: middle;\n",
       "    }\n",
       "\n",
       "    .dataframe tbody tr th {\n",
       "        vertical-align: top;\n",
       "    }\n",
       "\n",
       "    .dataframe thead th {\n",
       "        text-align: right;\n",
       "    }\n",
       "</style>\n",
       "<table border=\"1\" class=\"dataframe\">\n",
       "  <thead>\n",
       "    <tr style=\"text-align: right;\">\n",
       "      <th></th>\n",
       "      <th>release_year</th>\n",
       "    </tr>\n",
       "  </thead>\n",
       "  <tbody>\n",
       "    <tr>\n",
       "      <th>count</th>\n",
       "      <td>560.000000</td>\n",
       "    </tr>\n",
       "    <tr>\n",
       "      <th>mean</th>\n",
       "      <td>2016.521429</td>\n",
       "    </tr>\n",
       "    <tr>\n",
       "      <th>std</th>\n",
       "      <td>6.282517</td>\n",
       "    </tr>\n",
       "    <tr>\n",
       "      <th>min</th>\n",
       "      <td>1993.000000</td>\n",
       "    </tr>\n",
       "    <tr>\n",
       "      <th>25%</th>\n",
       "      <td>2012.000000</td>\n",
       "    </tr>\n",
       "    <tr>\n",
       "      <th>50%</th>\n",
       "      <td>2019.000000</td>\n",
       "    </tr>\n",
       "    <tr>\n",
       "      <th>75%</th>\n",
       "      <td>2022.000000</td>\n",
       "    </tr>\n",
       "    <tr>\n",
       "      <th>max</th>\n",
       "      <td>2023.000000</td>\n",
       "    </tr>\n",
       "  </tbody>\n",
       "</table>\n",
       "</div>"
      ],
      "text/plain": [
       "       release_year\n",
       "count    560.000000\n",
       "mean    2016.521429\n",
       "std        6.282517\n",
       "min     1993.000000\n",
       "25%     2012.000000\n",
       "50%     2019.000000\n",
       "75%     2022.000000\n",
       "max     2023.000000"
      ]
     },
     "execution_count": 11,
     "metadata": {},
     "output_type": "execute_result"
    }
   ],
   "source": [
    "df.describe()"
   ]
  },
  {
   "cell_type": "code",
   "execution_count": 12,
   "metadata": {
    "execution": {
     "iopub.execute_input": "2024-02-16T13:59:45.559223Z",
     "iopub.status.busy": "2024-02-16T13:59:45.558241Z",
     "iopub.status.idle": "2024-02-16T13:59:45.599354Z",
     "shell.execute_reply": "2024-02-16T13:59:45.598066Z",
     "shell.execute_reply.started": "2024-02-16T13:59:45.559173Z"
    }
   },
   "outputs": [
    {
     "data": {
      "text/html": [
       "<div>\n",
       "<style scoped>\n",
       "    .dataframe tbody tr th:only-of-type {\n",
       "        vertical-align: middle;\n",
       "    }\n",
       "\n",
       "    .dataframe tbody tr th {\n",
       "        vertical-align: top;\n",
       "    }\n",
       "\n",
       "    .dataframe thead th {\n",
       "        text-align: right;\n",
       "    }\n",
       "</style>\n",
       "<table border=\"1\" class=\"dataframe\">\n",
       "  <thead>\n",
       "    <tr style=\"text-align: right;\">\n",
       "      <th></th>\n",
       "      <th>names</th>\n",
       "      <th>release_year</th>\n",
       "      <th>maturity_rating</th>\n",
       "      <th>duration</th>\n",
       "      <th>description</th>\n",
       "      <th>genre</th>\n",
       "      <th>mood</th>\n",
       "      <th>cast</th>\n",
       "      <th>subtitles</th>\n",
       "      <th>audio</th>\n",
       "    </tr>\n",
       "  </thead>\n",
       "  <tbody>\n",
       "    <tr>\n",
       "      <th>count</th>\n",
       "      <td>560</td>\n",
       "      <td>560.000000</td>\n",
       "      <td>560</td>\n",
       "      <td>560</td>\n",
       "      <td>560</td>\n",
       "      <td>560</td>\n",
       "      <td>517</td>\n",
       "      <td>560</td>\n",
       "      <td>560</td>\n",
       "      <td>560</td>\n",
       "    </tr>\n",
       "    <tr>\n",
       "      <th>unique</th>\n",
       "      <td>245</td>\n",
       "      <td>NaN</td>\n",
       "      <td>5</td>\n",
       "      <td>93</td>\n",
       "      <td>245</td>\n",
       "      <td>127</td>\n",
       "      <td>46</td>\n",
       "      <td>240</td>\n",
       "      <td>25</td>\n",
       "      <td>43</td>\n",
       "    </tr>\n",
       "    <tr>\n",
       "      <th>top</th>\n",
       "      <td>Chillar Party</td>\n",
       "      <td>NaN</td>\n",
       "      <td>U/A 7+</td>\n",
       "      <td>1h 37m</td>\n",
       "      <td>Eight feisty boys befriend young drifter Fatka...</td>\n",
       "      <td>['Family Features', 'US Movies', 'Children &amp; F...</td>\n",
       "      <td>Exciting</td>\n",
       "      <td>['Shah Rukh Khan', 'Deepika Padukone', 'Nikiti...</td>\n",
       "      <td>['English']</td>\n",
       "      <td>['English - Audio Description,', 'English [Ori...</td>\n",
       "    </tr>\n",
       "    <tr>\n",
       "      <th>freq</th>\n",
       "      <td>7</td>\n",
       "      <td>NaN</td>\n",
       "      <td>186</td>\n",
       "      <td>19</td>\n",
       "      <td>7</td>\n",
       "      <td>55</td>\n",
       "      <td>90</td>\n",
       "      <td>7</td>\n",
       "      <td>237</td>\n",
       "      <td>185</td>\n",
       "    </tr>\n",
       "    <tr>\n",
       "      <th>mean</th>\n",
       "      <td>NaN</td>\n",
       "      <td>2016.521429</td>\n",
       "      <td>NaN</td>\n",
       "      <td>NaN</td>\n",
       "      <td>NaN</td>\n",
       "      <td>NaN</td>\n",
       "      <td>NaN</td>\n",
       "      <td>NaN</td>\n",
       "      <td>NaN</td>\n",
       "      <td>NaN</td>\n",
       "    </tr>\n",
       "    <tr>\n",
       "      <th>std</th>\n",
       "      <td>NaN</td>\n",
       "      <td>6.282517</td>\n",
       "      <td>NaN</td>\n",
       "      <td>NaN</td>\n",
       "      <td>NaN</td>\n",
       "      <td>NaN</td>\n",
       "      <td>NaN</td>\n",
       "      <td>NaN</td>\n",
       "      <td>NaN</td>\n",
       "      <td>NaN</td>\n",
       "    </tr>\n",
       "    <tr>\n",
       "      <th>min</th>\n",
       "      <td>NaN</td>\n",
       "      <td>1993.000000</td>\n",
       "      <td>NaN</td>\n",
       "      <td>NaN</td>\n",
       "      <td>NaN</td>\n",
       "      <td>NaN</td>\n",
       "      <td>NaN</td>\n",
       "      <td>NaN</td>\n",
       "      <td>NaN</td>\n",
       "      <td>NaN</td>\n",
       "    </tr>\n",
       "    <tr>\n",
       "      <th>25%</th>\n",
       "      <td>NaN</td>\n",
       "      <td>2012.000000</td>\n",
       "      <td>NaN</td>\n",
       "      <td>NaN</td>\n",
       "      <td>NaN</td>\n",
       "      <td>NaN</td>\n",
       "      <td>NaN</td>\n",
       "      <td>NaN</td>\n",
       "      <td>NaN</td>\n",
       "      <td>NaN</td>\n",
       "    </tr>\n",
       "    <tr>\n",
       "      <th>50%</th>\n",
       "      <td>NaN</td>\n",
       "      <td>2019.000000</td>\n",
       "      <td>NaN</td>\n",
       "      <td>NaN</td>\n",
       "      <td>NaN</td>\n",
       "      <td>NaN</td>\n",
       "      <td>NaN</td>\n",
       "      <td>NaN</td>\n",
       "      <td>NaN</td>\n",
       "      <td>NaN</td>\n",
       "    </tr>\n",
       "    <tr>\n",
       "      <th>75%</th>\n",
       "      <td>NaN</td>\n",
       "      <td>2022.000000</td>\n",
       "      <td>NaN</td>\n",
       "      <td>NaN</td>\n",
       "      <td>NaN</td>\n",
       "      <td>NaN</td>\n",
       "      <td>NaN</td>\n",
       "      <td>NaN</td>\n",
       "      <td>NaN</td>\n",
       "      <td>NaN</td>\n",
       "    </tr>\n",
       "    <tr>\n",
       "      <th>max</th>\n",
       "      <td>NaN</td>\n",
       "      <td>2023.000000</td>\n",
       "      <td>NaN</td>\n",
       "      <td>NaN</td>\n",
       "      <td>NaN</td>\n",
       "      <td>NaN</td>\n",
       "      <td>NaN</td>\n",
       "      <td>NaN</td>\n",
       "      <td>NaN</td>\n",
       "      <td>NaN</td>\n",
       "    </tr>\n",
       "  </tbody>\n",
       "</table>\n",
       "</div>"
      ],
      "text/plain": [
       "                names  release_year maturity_rating duration  \\\n",
       "count             560    560.000000             560      560   \n",
       "unique            245           NaN               5       93   \n",
       "top     Chillar Party           NaN         U/A 7+    1h 37m   \n",
       "freq                7           NaN             186       19   \n",
       "mean              NaN   2016.521429             NaN      NaN   \n",
       "std               NaN      6.282517             NaN      NaN   \n",
       "min               NaN   1993.000000             NaN      NaN   \n",
       "25%               NaN   2012.000000             NaN      NaN   \n",
       "50%               NaN   2019.000000             NaN      NaN   \n",
       "75%               NaN   2022.000000             NaN      NaN   \n",
       "max               NaN   2023.000000             NaN      NaN   \n",
       "\n",
       "                                              description  \\\n",
       "count                                                 560   \n",
       "unique                                                245   \n",
       "top     Eight feisty boys befriend young drifter Fatka...   \n",
       "freq                                                    7   \n",
       "mean                                                  NaN   \n",
       "std                                                   NaN   \n",
       "min                                                   NaN   \n",
       "25%                                                   NaN   \n",
       "50%                                                   NaN   \n",
       "75%                                                   NaN   \n",
       "max                                                   NaN   \n",
       "\n",
       "                                                    genre      mood  \\\n",
       "count                                                 560       517   \n",
       "unique                                                127        46   \n",
       "top     ['Family Features', 'US Movies', 'Children & F...  Exciting   \n",
       "freq                                                   55        90   \n",
       "mean                                                  NaN       NaN   \n",
       "std                                                   NaN       NaN   \n",
       "min                                                   NaN       NaN   \n",
       "25%                                                   NaN       NaN   \n",
       "50%                                                   NaN       NaN   \n",
       "75%                                                   NaN       NaN   \n",
       "max                                                   NaN       NaN   \n",
       "\n",
       "                                                     cast    subtitles  \\\n",
       "count                                                 560          560   \n",
       "unique                                                240           25   \n",
       "top     ['Shah Rukh Khan', 'Deepika Padukone', 'Nikiti...  ['English']   \n",
       "freq                                                    7          237   \n",
       "mean                                                  NaN          NaN   \n",
       "std                                                   NaN          NaN   \n",
       "min                                                   NaN          NaN   \n",
       "25%                                                   NaN          NaN   \n",
       "50%                                                   NaN          NaN   \n",
       "75%                                                   NaN          NaN   \n",
       "max                                                   NaN          NaN   \n",
       "\n",
       "                                                    audio  \n",
       "count                                                 560  \n",
       "unique                                                 43  \n",
       "top     ['English - Audio Description,', 'English [Ori...  \n",
       "freq                                                  185  \n",
       "mean                                                  NaN  \n",
       "std                                                   NaN  \n",
       "min                                                   NaN  \n",
       "25%                                                   NaN  \n",
       "50%                                                   NaN  \n",
       "75%                                                   NaN  \n",
       "max                                                   NaN  "
      ]
     },
     "execution_count": 12,
     "metadata": {},
     "output_type": "execute_result"
    }
   ],
   "source": [
    "df.describe(include = \"all\")"
   ]
  },
  {
   "cell_type": "code",
   "execution_count": 13,
   "metadata": {
    "execution": {
     "iopub.execute_input": "2024-02-16T13:59:45.601196Z",
     "iopub.status.busy": "2024-02-16T13:59:45.600846Z",
     "iopub.status.idle": "2024-02-16T13:59:45.858208Z",
     "shell.execute_reply": "2024-02-16T13:59:45.856879Z",
     "shell.execute_reply.started": "2024-02-16T13:59:45.601167Z"
    }
   },
   "outputs": [
    {
     "data": {
      "image/png": "[encoded data removed]",
      "text/plain": [
       "<Figure size 640x480 with 1 Axes>"
      ]
     },
     "metadata": {},
     "output_type": "display_data"
    }
   ],
   "source": [
    "release_year_counts = df['release_year'].value_counts().sort_index()\n",
    "plt.plot(release_year_counts)\n",
    "plt.title('Netflix Titles Release Trend')\n",
    "plt.xlabel('Year')\n",
    "plt.ylabel('Number of Titles')\n",
    "plt.show()"
   ]
  },
  {
   "cell_type": "markdown",
   "metadata": {},
   "source": [
    "##   Titles released trend over a period ranging approximately from 1995 to 2023 is interesting. Here's my analysis:\n",
    "\n",
    "- **Initial Observation**: There's a noticeable increase in the number of titles released over time, with a particularly sharp upturn around 2020. This could be due to various factors such as Netflix’s expansion into original content production, increased investment in acquiring titles, or a strategic decision to broaden their library to attract a larger subscriber base. Covid could have something to do with the timing as well.\n",
    "- **Early Years**: From 1995 until around 2010, the number of titles released each year appears relatively stable and low. This period likely corresponds with Netflix's early years when it was primarily a DVD rental service with a more limited streaming catalog.\n",
    "- **Growth Phase**: Starting around 2010, there is a gradual increase in releases, which aligns with the period when Netflix began focusing more on streaming and expanding its digital content library. The trend continues to rise steadily, reflecting the company's growing emphasis on providing a wide variety of streaming content.\n",
    "- **Sharp Increase**: Around 2020, there's a dramatic spike in the number of titles. This could be related to the global COVID-19 pandemic, which saw a surge in streaming services as people spent more time at home. It might also reflect a strategic push by Netflix to release more content to capture the increased demand for home entertainment.\n",
    "- **Data Anomalies**: The sharp drop immediately following the spike suggests a potential anomaly in data collection or a change in strategy, possibly as the world started moving past the peak of the pandemic. It could also be due to incomplete data for the year 2023 if the dataset does not cover the whole year.\n",
    "- **Overall Trend**: The overall trend indicates an aggressive content growth strategy by Netflix, which is likely a combination of increasing original content production and licensing more third-party content to keep subscribers engaged and attract new ones."
   ]
  },
  {
   "cell_type": "code",
   "execution_count": 14,
   "metadata": {
    "execution": {
     "iopub.execute_input": "2024-02-16T13:59:45.860089Z",
     "iopub.status.busy": "2024-02-16T13:59:45.859716Z",
     "iopub.status.idle": "2024-02-16T13:59:46.102064Z",
     "shell.execute_reply": "2024-02-16T13:59:46.100780Z",
     "shell.execute_reply.started": "2024-02-16T13:59:45.860057Z"
    }
   },
   "outputs": [
    {
     "data": {
      "image/png": "[encoded data removed]",
      "text/plain": [
       "<Figure size 1000x600 with 1 Axes>"
      ]
     },
     "metadata": {},
     "output_type": "display_data"
    }
   ],
   "source": [
    "# Calculate the distribution of maturity ratings\n",
    "maturity_rating_counts = df['maturity_rating'].value_counts()\n",
    "\n",
    "# Plot the distribution of maturity ratings\n",
    "plt.figure(figsize=(10, 6))\n",
    "maturity_rating_counts.plot(kind='bar')\n",
    "plt.title('Distribution of Netflix Maturity Ratings')\n",
    "plt.xlabel('Maturity Rating')\n",
    "plt.ylabel('Number of Titles')\n",
    "plt.xticks(rotation=0)\n",
    "plt.show()"
   ]
  },
  {
   "cell_type": "markdown",
   "metadata": {},
   "source": [
    "#  **Analysis of the distribution of Netflix maturity ratings:**\n",
    "\n",
    "- The maturity rating **\"U/A 7+\"** has the highest number of titles, indicating that a significant portion of the content on Netflix is suitable for viewers aged 7 and above with parental guidance.\n",
    "- The **\"U/A 13+\"** category follows closely, suggesting that there is also a substantial amount of content deemed appropriate for teenagers with parental guidance.\n",
    "- The **\"U/A 16+\"** category has a lower count in comparison, showing that there are fewer titles targeted towards older teenagers.\n",
    "- The **\"A\"** rating, which stands for Adult content, has even fewer titles, implying that content strictly for adults is less prevalent on the platform.\n",
    "- Finally, the **\"U\"** category, which usually denotes content suitable for all ages, has the least number of titles according to this dataset. This is somewhat surprising as one might expect a platform like Netflix to have a large number of universal titles.\n",
    "\n",
    "This likely reflects an overall content strategy of Netflix, aiming to cater to a broad audience with a focus on content that is suitable for a young audience but still requires parental guidance. It may also reflect regulatory requirements or cultural content preferences in the region from which this data was collected."
   ]
  },
  {
   "cell_type": "code",
   "execution_count": 15,
   "metadata": {
    "execution": {
     "iopub.execute_input": "2024-02-16T13:59:46.103676Z",
     "iopub.status.busy": "2024-02-16T13:59:46.103311Z",
     "iopub.status.idle": "2024-02-16T13:59:46.116886Z",
     "shell.execute_reply": "2024-02-16T13:59:46.115447Z",
     "shell.execute_reply.started": "2024-02-16T13:59:46.103645Z"
    }
   },
   "outputs": [
    {
     "name": "stdout",
     "output_type": "stream",
     "text": [
      "<class 'pandas.core.frame.DataFrame'>\n",
      "RangeIndex: 560 entries, 0 to 559\n",
      "Data columns (total 10 columns):\n",
      " #   Column           Non-Null Count  Dtype \n",
      "---  ------           --------------  ----- \n",
      " 0   names            560 non-null    object\n",
      " 1   release_year     560 non-null    int64 \n",
      " 2   maturity_rating  560 non-null    object\n",
      " 3   duration         560 non-null    object\n",
      " 4   description      560 non-null    object\n",
      " 5   genre            560 non-null    object\n",
      " 6   mood             517 non-null    object\n",
      " 7   cast             560 non-null    object\n",
      " 8   subtitles        560 non-null    object\n",
      " 9   audio            560 non-null    object\n",
      "dtypes: int64(1), object(9)\n",
      "memory usage: 43.9+ KB\n"
     ]
    }
   ],
   "source": [
    "df.info(all)"
   ]
  },
  {
   "cell_type": "markdown",
   "metadata": {},
   "source": [
    "### Context and Rationale for the `duration_to_minutes` Function\n",
    "\n",
    "**Initial Objective**:\n",
    "\n",
    "- Our initial objective was to analyze various aspects of a Netflix dataset, including the duration of movies and shows. We aimed to understand trends, correlations, and other insights related to the length of these titles.\n",
    "\n",
    "**Problem Encountered**:\n",
    "\n",
    "- The duration data in the dataset was presented in a string format, like '2h 9m', combining hours and minutes. This format posed a challenge for quantitative analysis because we couldn't directly perform calculations (like averaging or correlating) on these string values.\n",
    "\n",
    "**Rationale for the Chosen Method**:\n",
    "\n",
    "- To overcome this challenge, we needed to convert these string values into a purely numerical format. The most logical and straightforward representation was to convert the entire duration into minutes. This conversion would allow us to utilize the duration data in various statistical and numerical analyses, making the data more versatile and useful for our objectives.\n",
    "\n",
    "### Explanation of the `duration_to_minutes` Function\n",
    "\n",
    "**Purpose**:\n",
    "\n",
    "- The `duration_to_minutes` function was specifically created to convert the duration of movies/shows from the string format ('2h 9m') to a numeric format (total minutes). This conversion was essential to enable us to perform quantitative analyses on the duration data.\n",
    "\n",
    "**How It Works**:\n",
    "\n",
    "1. **Checking for Hours and Minutes**:\n",
    "   - The function first checks if the duration string contains both hours ('h') and minutes ('m'). If it does, it splits the string at 'h', separates the hours and minutes, and converts them to integers. The total duration in minutes is calculated by multiplying the hours by 60 and adding the minutes.\n",
    "2. **Handling Only Hours or Minutes**:\n",
    "   - If the duration string contains only hours or only minutes, the function handles these cases separately by stripping the respective identifiers ('h' or 'm') and converting the remaining number to an integer. The total duration is then calculated appropriately (either by converting hours to minutes or directly using the minutes).\n",
    "3. **Edge Case Handling**:\n",
    "   - In cases where the duration string does not follow the expected format, the function returns 0. This ensures that our dataset remains clean and consistent for analysis.\n",
    "\n",
    "**Application**:\n",
    "\n",
    "- The function is applied to each row in the duration column of our DataFrame, transforming each duration entry into a numeric value. This newly computed numerical data is stored in a new column named 'duration_minutes'.\n",
    "\n",
    "**Result**:\n",
    "\n",
    "- With this transformation, we now have a DataFrame that includes the duration of each title in minutes, allowing us to conduct various statistical analyses and gain deeper insights into the dataset."
   ]
  },
  {
   "cell_type": "code",
   "execution_count": 16,
   "metadata": {
    "execution": {
     "iopub.execute_input": "2024-02-16T13:59:46.119132Z",
     "iopub.status.busy": "2024-02-16T13:59:46.118701Z",
     "iopub.status.idle": "2024-02-16T13:59:46.137628Z",
     "shell.execute_reply": "2024-02-16T13:59:46.136195Z",
     "shell.execute_reply.started": "2024-02-16T13:59:46.119088Z"
    }
   },
   "outputs": [
    {
     "name": "stdout",
     "output_type": "stream",
     "text": [
      "                 names  release_year maturity_rating duration  \\\n",
      "0        Mission Majnu          2023        U/A 16+     2h 9m   \n",
      "1               Cirkus          2022         U/A 7+    2h 14m   \n",
      "2  Gangubai Kathiawadi          2022        U/A 16+    2h 33m   \n",
      "3              Thunivu          2023        U/A 16+    2h 22m   \n",
      "4    Bhool Bhulaiyaa 2          2022        U/A 13+    2h 21m   \n",
      "\n",
      "                                         description  \\\n",
      "0  In the 1970s, an undercover Indian spy takes o...   \n",
      "1  Chaos and comedy take the spotlight when a rin...   \n",
      "2  Duped and sold to a brothel, a young woman fea...   \n",
      "3  A major bank heist takes an unnerving turn whe...   \n",
      "4  When strangers Reet and Ruhan cross paths, the...   \n",
      "\n",
      "                                               genre         mood  \\\n",
      "0  ['Spy Movies', 'Hindi-Language Movies', 'Bolly...  Suspenseful   \n",
      "1  ['Hindi-Language Movies', 'Bollywood Movies', ...        Goofy   \n",
      "2  ['Hindi-Language Movies', 'Movies Based on Boo...  Provocative   \n",
      "3             ['Crime Movies', 'Action & Adventure']     Exciting   \n",
      "4  ['Hindi-Language Movies', 'Bollywood Movies', ...     Offbeat,   \n",
      "\n",
      "                                                cast  \\\n",
      "0  ['Sidharth Malhotra', 'Rashmika Mandanna', 'Pa...   \n",
      "1  ['Ranveer Singh', 'Varun Sharma', 'Pooja Hegde...   \n",
      "2  ['Alia Bhatt', 'Vijay Raaz', 'Seema Pahwa', 'A...   \n",
      "3  ['Ajith Kumar', 'Manju Warrier', 'Samuthirakan...   \n",
      "4  ['Tabu', 'Kartik Aaryan', 'Kiara Advani', 'Raj...   \n",
      "\n",
      "                           subtitles  \\\n",
      "0  ['English,', 'English,', 'Hindi']   \n",
      "1              ['English,', 'Hindi']   \n",
      "2              ['English,', 'Hindi']   \n",
      "3              ['English,', 'Hindi']   \n",
      "4              ['English,', 'Hindi']   \n",
      "\n",
      "                                               audio  duration_minutes  \n",
      "0  ['English,', 'Hindi - Audio Description,', 'Hi...               129  \n",
      "1                               ['Hindi [Original]']               134  \n",
      "2                    ['Hindi [Original],', 'Telugu']               153  \n",
      "3                               ['Tamil [Original]']               142  \n",
      "4                               ['Hindi [Original]']               141  \n"
     ]
    }
   ],
   "source": [
    "# Function to convert duration string to minutes\n",
    "def duration_to_minutes(duration_str):\n",
    "    if 'h' in duration_str and 'm' in duration_str:\n",
    "        hours, minutes = duration_str.split('h')\n",
    "        minutes = minutes.strip('m')\n",
    "        return int(hours) * 60 + int(minutes)\n",
    "    elif 'h' in duration_str:\n",
    "        hours = duration_str.strip('h')\n",
    "        return int(hours) * 60\n",
    "    elif 'm' in duration_str:\n",
    "        minutes = duration_str.strip('m')\n",
    "        return int(minutes)\n",
    "    else:\n",
    "        return 0\n",
    "\n",
    "# Apply the function to the duration column\n",
    "df['duration_minutes'] = df['duration'].apply(duration_to_minutes)\n",
    "\n",
    "# Now you can view the DataFrame with the new 'duration_minutes' column\n",
    "print(df.head())"
   ]
  },
  {
   "cell_type": "code",
   "execution_count": 17,
   "metadata": {
    "execution": {
     "iopub.execute_input": "2024-02-16T13:59:46.139724Z",
     "iopub.status.busy": "2024-02-16T13:59:46.139358Z",
     "iopub.status.idle": "2024-02-16T13:59:46.155390Z",
     "shell.execute_reply": "2024-02-16T13:59:46.154176Z",
     "shell.execute_reply.started": "2024-02-16T13:59:46.139692Z"
    }
   },
   "outputs": [
    {
     "name": "stdout",
     "output_type": "stream",
     "text": [
      "Overall Average Duration: 120.04 minutes\n"
     ]
    }
   ],
   "source": [
    "# Overall average duration\n",
    "overall_average_duration = df['duration_minutes'].mean()\n",
    "print(f\"Overall Average Duration: {overall_average_duration:.2f} minutes\")"
   ]
  },
  {
   "cell_type": "code",
   "execution_count": 18,
   "metadata": {
    "execution": {
     "iopub.execute_input": "2024-02-16T13:59:46.157299Z",
     "iopub.status.busy": "2024-02-16T13:59:46.156965Z",
     "iopub.status.idle": "2024-02-16T13:59:46.188121Z",
     "shell.execute_reply": "2024-02-16T13:59:46.186795Z",
     "shell.execute_reply.started": "2024-02-16T13:59:46.157272Z"
    }
   },
   "outputs": [
    {
     "name": "stdout",
     "output_type": "stream",
     "text": [
      "genre_list\n",
      "Bollywood Movies                  145.924370\n",
      "Romantic Movies                   143.413793\n",
      "Dramas                            141.264901\n",
      "Romantic Comedies                 139.025000\n",
      "Period Pieces                     138.833333\n",
      "Hindi-Language Movies             137.710345\n",
      "Action & Adventure                130.900000\n",
      "Crime Movies                      127.857143\n",
      "Spy Movies                        126.961538\n",
      "Thriller Movies                   126.551724\n",
      "Sci-Fi Movies                     123.377778\n",
      "Movies Based on Real Life         122.187500\n",
      "Music                             122.000000\n",
      "Sports Movies                     120.800000\n",
      "Mysteries                         117.040000\n",
      "Teen Movies                       116.142857\n",
      "Comedies                          115.136546\n",
      "Movies Based on Books             112.436364\n",
      "Horror Movies                     110.260870\n",
      "Westerns                          109.000000\n",
      "US Movies                         107.532895\n",
      "Independent Movies                104.000000\n",
      "Family Features                   103.471154\n",
      "Martial Arts Movies               103.235294\n",
      "Anime Features                     98.000000\n",
      "Children & Family Movies           96.612903\n",
      "True Crime Documentaries           87.000000\n",
      "Documentaries                      55.666667\n",
      "Science & Nature Docs              40.000000\n",
      "Nature & Ecology Documentaries     40.000000\n",
      "Name: duration_minutes, dtype: float64\n"
     ]
    }
   ],
   "source": [
    "# Function to convert genre string to list\n",
    "def convert_genre_to_list(genre_str):\n",
    "    try:\n",
    "        return ast.literal_eval(genre_str)\n",
    "    except:\n",
    "        return []\n",
    "\n",
    "# Apply the function to the genre column\n",
    "df['genre_list'] = df['genre'].apply(convert_genre_to_list)\n",
    "\n",
    "# Explode the DataFrame based on the genre_list column\n",
    "df_exploded_by_genre = df.explode('genre_list')\n",
    "\n",
    "# Now calculate the average duration for each genre\n",
    "average_duration_by_genre = df_exploded_by_genre.groupby('genre_list')['duration_minutes'].mean().sort_values(ascending=False)\n",
    "\n",
    "print(average_duration_by_genre)"
   ]
  },
  {
   "cell_type": "code",
   "execution_count": 19,
   "metadata": {
    "execution": {
     "iopub.execute_input": "2024-02-16T13:59:46.192041Z",
     "iopub.status.busy": "2024-02-16T13:59:46.191142Z",
     "iopub.status.idle": "2024-02-16T13:59:46.208141Z",
     "shell.execute_reply": "2024-02-16T13:59:46.206780Z",
     "shell.execute_reply.started": "2024-02-16T13:59:46.192005Z"
    }
   },
   "outputs": [
    {
     "name": "stdout",
     "output_type": "stream",
     "text": [
      "maturity_rating_numeric\n",
      "1    186\n",
      "2    178\n",
      "3    123\n",
      "4     69\n",
      "0      4\n",
      "Name: count, dtype: int64\n",
      "                         release_year  duration_minutes  \\\n",
      "release_year                 1.000000          0.109655   \n",
      "duration_minutes             0.109655          1.000000   \n",
      "maturity_rating_numeric      0.159814          0.445920   \n",
      "\n",
      "                         maturity_rating_numeric  \n",
      "release_year                            0.159814  \n",
      "duration_minutes                        0.445920  \n",
      "maturity_rating_numeric                 1.000000  \n"
     ]
    }
   ],
   "source": [
    "maturity_rating_mapping = {\n",
    "    'U/A 7+ ': 1,\n",
    "    'U/A 13+ ': 2,\n",
    "    'U/A 16+ ': 3,\n",
    "    'A ': 4,  # Assuming 'A' is the highest maturity rating\n",
    "    'U ': 0   # Assuming 'U' is the lowest maturity rating\n",
    "}\n",
    "# Create a dictionary to map maturity ratings to numeric values\n",
    "maturity_rating_mapping = {\n",
    "    'U/A 7+ ': 1,\n",
    "    'U/A 13+ ': 2,\n",
    "    'U/A 16+ ': 3,\n",
    "    'A ': 4,  # Assuming 'A' is the highest maturity rating\n",
    "    'U ': 0   # Assuming 'U' is the lowest maturity rating\n",
    "}\n",
    "\n",
    "# Reapply the mapping to the maturity_rating column\n",
    "df['maturity_rating_numeric'] = df['maturity_rating'].map(maturity_rating_mapping)\n",
    "\n",
    "# Now, let's recheck the unique values and their counts\n",
    "unique_ratings_updated = df['maturity_rating_numeric'].value_counts(dropna=False)\n",
    "print(unique_ratings_updated)\n",
    "\n",
    "# Recalculate the correlation matrix\n",
    "correlation_matrix = df[['release_year', 'duration_minutes', 'maturity_rating_numeric']].corr()\n",
    "\n",
    "# Display the updated correlation matrix\n",
    "print(correlation_matrix)\n"
   ]
  },
  {
   "cell_type": "code",
   "execution_count": 20,
   "metadata": {
    "execution": {
     "iopub.execute_input": "2024-02-16T13:59:46.211775Z",
     "iopub.status.busy": "2024-02-16T13:59:46.211433Z",
     "iopub.status.idle": "2024-02-16T13:59:46.225110Z",
     "shell.execute_reply": "2024-02-16T13:59:46.224259Z",
     "shell.execute_reply.started": "2024-02-16T13:59:46.211747Z"
    }
   },
   "outputs": [
    {
     "name": "stdout",
     "output_type": "stream",
     "text": [
      "maturity_rating_numeric\n",
      "1    186\n",
      "2    178\n",
      "3    123\n",
      "4     69\n",
      "0      4\n",
      "Name: count, dtype: int64\n"
     ]
    }
   ],
   "source": [
    "# Check unique values and their counts in the 'maturity_rating_numeric' column\n",
    "unique_ratings = df['maturity_rating_numeric'].value_counts(dropna=False)\n",
    "print(unique_ratings)"
   ]
  },
  {
   "cell_type": "code",
   "execution_count": 21,
   "metadata": {
    "execution": {
     "iopub.execute_input": "2024-02-16T13:59:46.226513Z",
     "iopub.status.busy": "2024-02-16T13:59:46.226175Z",
     "iopub.status.idle": "2024-02-16T13:59:46.238367Z",
     "shell.execute_reply": "2024-02-16T13:59:46.237239Z",
     "shell.execute_reply.started": "2024-02-16T13:59:46.226485Z"
    }
   },
   "outputs": [
    {
     "name": "stdout",
     "output_type": "stream",
     "text": [
      "['U/A 16+ ' 'U/A 7+ ' 'U/A 13+ ' 'A ' 'U ']\n"
     ]
    }
   ],
   "source": [
    "unique_maturity_ratings = df['maturity_rating'].unique()\n",
    "print(unique_maturity_ratings)\n"
   ]
  },
  {
   "cell_type": "code",
   "execution_count": 22,
   "metadata": {
    "execution": {
     "iopub.execute_input": "2024-02-16T13:59:46.242033Z",
     "iopub.status.busy": "2024-02-16T13:59:46.241465Z",
     "iopub.status.idle": "2024-02-16T13:59:46.252395Z",
     "shell.execute_reply": "2024-02-16T13:59:46.251155Z",
     "shell.execute_reply.started": "2024-02-16T13:59:46.242001Z"
    }
   },
   "outputs": [
    {
     "name": "stdout",
     "output_type": "stream",
     "text": [
      "                         release_year  duration_minutes  \\\n",
      "release_year                 1.000000          0.109655   \n",
      "duration_minutes             0.109655          1.000000   \n",
      "maturity_rating_numeric      0.159814          0.445920   \n",
      "\n",
      "                         maturity_rating_numeric  \n",
      "release_year                            0.159814  \n",
      "duration_minutes                        0.445920  \n",
      "maturity_rating_numeric                 1.000000  \n"
     ]
    }
   ],
   "source": [
    "# calculate the correlation matrix\n",
    "correlation_matrix = df[['release_year', 'duration_minutes', 'maturity_rating_numeric']].corr()\n",
    "\n",
    "# Display the updated correlation matrix\n",
    "print(correlation_matrix)\n"
   ]
  }
 ],
 "metadata": {
  "kaggle": {
   "accelerator": "none",
   "dataSources": [
    {
     "datasetId": 2939316,
     "sourceId": 5062310,
     "sourceType": "datasetVersion"
    }
   ],
   "dockerImageVersionId": 30646,
   "isGpuEnabled": false,
   "isInternetEnabled": true,
   "language": "python",
   "sourceType": "notebook"
  },
  "kernelspec": {
   "display_name": "Python 3 (ipykernel)",
   "language": "python",
   "name": "python3"
  },
  "language_info": {
   "codemirror_mode": {
    "name": "ipython",
    "version": 3
   },
   "file_extension": ".py",
   "mimetype": "text/x-python",
   "name": "python",
   "nbconvert_exporter": "python",
   "pygments_lexer": "ipython3",
   "version": "3.12.1"
  }
 },
 "nbformat": 4,
 "nbformat_minor": 4
}
